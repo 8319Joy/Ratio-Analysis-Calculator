{
 "cells": [
  {
   "cell_type": "markdown",
   "id": "7ea82b6f",
   "metadata": {},
   "source": [
    "# Creating a ratio analysis calculator in Python can be a great way to analyze financial data. Below is a simple implementation of a ratio analysis calculator that allows you to compute some of the most common financial ratios, such as profitability, liquidity, efficiency, and leverage ratios. This is a basic example, and you can expand it by adding more ratios as needed."
   ]
  },
  {
   "cell_type": "code",
   "execution_count": 1,
   "id": "91c43694",
   "metadata": {},
   "outputs": [
    {
     "name": "stdout",
     "output_type": "stream",
     "text": [
      "Ratio Analysis Calculator\n",
      "--------------------------\n",
      "Enter Current Assets: 1500000\n",
      "Enter Current Liabilities: 600000\n",
      "Current Ratio: 2.50\n",
      "Enter Inventory: 3500000\n",
      "Quick Ratio: -3.33\n",
      "Enter Total Liabilities: 6500000\n",
      "Enter Total Equity: 7500000\n",
      "Debt to Equity Ratio: 0.87\n",
      "Enter Gross Profit: 2500000\n",
      "Enter Revenue: 3000000\n",
      "Gross Margin Ratio: 0.83\n",
      "Enter Net Profit: 2800000\n",
      "Net Profit Margin: 0.93\n",
      "Enter Total Assets: 75000000\n",
      "Return on Assets: 0.04\n",
      "Return on Equity: 0.37\n"
     ]
    }
   ],
   "source": [
    "class RatioAnalysisCalculator:\n",
    "    def __init__(self):\n",
    "        pass\n",
    "\n",
    "    def current_ratio(self, current_assets, current_liabilities):\n",
    "        \"\"\"Calculate Current Ratio\"\"\"\n",
    "        return current_assets / current_liabilities\n",
    "\n",
    "    def quick_ratio(self, current_assets, inventory, current_liabilities):\n",
    "        \"\"\"Calculate Quick Ratio\"\"\"\n",
    "        return (current_assets - inventory) / current_liabilities\n",
    "\n",
    "    def debt_to_equity_ratio(self, total_liabilities, total_equity):\n",
    "        \"\"\"Calculate Debt to Equity Ratio\"\"\"\n",
    "        return total_liabilities / total_equity\n",
    "\n",
    "    def gross_margin_ratio(self, gross_profit, revenue):\n",
    "        \"\"\"Calculate Gross Margin Ratio\"\"\"\n",
    "        return gross_profit / revenue\n",
    "\n",
    "    def net_profit_margin(self, net_profit, revenue):\n",
    "        \"\"\"Calculate Net Profit Margin\"\"\"\n",
    "        return net_profit / revenue\n",
    "\n",
    "    def return_on_assets(self, net_income, total_assets):\n",
    "        \"\"\"Calculate Return on Assets\"\"\"\n",
    "        return net_income / total_assets\n",
    "\n",
    "    def return_on_equity(self, net_income, total_equity):\n",
    "        \"\"\"Calculate Return on Equity\"\"\"\n",
    "        return net_income / total_equity\n",
    "\n",
    "def main():\n",
    "    calculator = RatioAnalysisCalculator()\n",
    "\n",
    "    print(\"Ratio Analysis Calculator\")\n",
    "    print(\"--------------------------\")\n",
    "\n",
    "    # Example input for Current Ratio\n",
    "    current_assets = float(input(\"Enter Current Assets: \"))\n",
    "    current_liabilities = float(input(\"Enter Current Liabilities: \"))\n",
    "    print(\"Current Ratio: {:.2f}\".format(calculator.current_ratio(current_assets, current_liabilities)))\n",
    "\n",
    "    # Example input for Quick Ratio\n",
    "    inventory = float(input(\"Enter Inventory: \"))\n",
    "    print(\"Quick Ratio: {:.2f}\".format(calculator.quick_ratio(current_assets, inventory, current_liabilities)))\n",
    "\n",
    "    # Example input for Debt to Equity Ratio\n",
    "    total_liabilities = float(input(\"Enter Total Liabilities: \"))\n",
    "    total_equity = float(input(\"Enter Total Equity: \"))\n",
    "    print(\"Debt to Equity Ratio: {:.2f}\".format(calculator.debt_to_equity_ratio(total_liabilities, total_equity)))\n",
    "\n",
    "    # Example input for Gross Margin Ratio\n",
    "    gross_profit = float(input(\"Enter Gross Profit: \"))\n",
    "    revenue = float(input(\"Enter Revenue: \"))\n",
    "    print(\"Gross Margin Ratio: {:.2f}\".format(calculator.gross_margin_ratio(gross_profit, revenue)))\n",
    "\n",
    "    # Example input for Net Profit Margin\n",
    "    net_profit = float(input(\"Enter Net Profit: \"))\n",
    "    print(\"Net Profit Margin: {:.2f}\".format(calculator.net_profit_margin(net_profit, revenue)))\n",
    "\n",
    "    # Example input for Return on Assets\n",
    "    total_assets = float(input(\"Enter Total Assets: \"))\n",
    "    print(\"Return on Assets: {:.2f}\".format(calculator.return_on_assets(net_profit, total_assets)))\n",
    "\n",
    "    # Example input for Return on Equity\n",
    "    print(\"Return on Equity: {:.2f}\".format(calculator.return_on_equity(net_profit, total_equity)))\n",
    "\n",
    "if __name__ == \"__main__\":\n",
    "    main()"
   ]
  },
  {
   "cell_type": "markdown",
   "id": "c1cb86f9",
   "metadata": {},
   "source": [
    "Explanation of the Code:\n",
    "RatioAnalysisCalculator Class: This class contains methods to calculate different financial ratios.\n",
    "Main Function: The main() function orchestrates user input and outputs calculated ratios.\n",
    "User Input: The script prompts the user to enter values for various financial parameters based on the ratios being calculated.\n",
    "How to Run This Code:\n",
    "Copy the code into a Python script file (e.g., ratio_analysis_calculator.py).\n",
    "Run the script using a Python interpreter.\n",
    "Follow the prompts to input financial data, and the calculator will output the respective ratios.\n",
    "Customization:\n",
    "You can add more ratios by implementing additional methods in the RatioAnalysisCalculator class. You can also improve the user interface or implement error handling where necessary."
   ]
  },
  {
   "cell_type": "code",
   "execution_count": null,
   "id": "beec0b6a",
   "metadata": {},
   "outputs": [],
   "source": []
  }
 ],
 "metadata": {
  "kernelspec": {
   "display_name": "Python 3 (ipykernel)",
   "language": "python",
   "name": "python3"
  },
  "language_info": {
   "codemirror_mode": {
    "name": "ipython",
    "version": 3
   },
   "file_extension": ".py",
   "mimetype": "text/x-python",
   "name": "python",
   "nbconvert_exporter": "python",
   "pygments_lexer": "ipython3",
   "version": "3.11.4"
  }
 },
 "nbformat": 4,
 "nbformat_minor": 5
}
